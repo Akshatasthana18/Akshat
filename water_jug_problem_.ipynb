{
  "nbformat": 4,
  "nbformat_minor": 0,
  "metadata": {
    "colab": {
      "provenance": [],
      "authorship_tag": "ABX9TyO33WWz67b3PlNIPFQt1FJ2",
      "include_colab_link": true
    },
    "kernelspec": {
      "name": "python3",
      "display_name": "Python 3"
    },
    "language_info": {
      "name": "python"
    }
  },
  "cells": [
    {
      "cell_type": "markdown",
      "metadata": {
        "id": "view-in-github",
        "colab_type": "text"
      },
      "source": [
        "<a href=\"https://colab.research.google.com/github/Akshatasthana18/Akshat/blob/main/water_jug_problem_.ipynb\" target=\"_parent\"><img src=\"https://colab.research.google.com/assets/colab-badge.svg\" alt=\"Open In Colab\"/></a>"
      ]
    },
    {
      "cell_type": "code",
      "execution_count": 1,
      "metadata": {
        "colab": {
          "base_uri": "https://localhost:8080/"
        },
        "id": "Z874-mzkY9Uq",
        "outputId": "4d8fdbb9-a28d-44fc-80af-46c95fe44a25"
      },
      "outputs": [
        {
          "output_type": "stream",
          "name": "stdout",
          "text": [
            "JUG1\tJUG2\n",
            "0\t0\n",
            "5\t0\n",
            "0\t5\n",
            "5\t5\n",
            "3\t7\n",
            "0\t3\n",
            "5\t3\n",
            "1\t7\n",
            "0\t1\n",
            "5\t1\n",
            "0\t6\n",
            "5\t6\n",
            "4\t7\n",
            "0\t4\n"
          ]
        }
      ],
      "source": [
        "\n",
        "def pour(jug1, jug2):\n",
        "\tmax1, max2, fill = 5, 7, 4\n",
        "\tprint(\"%d\\t%d\" % (jug1, jug2))\n",
        "\tif jug2 == fill:\n",
        "\t\treturn\n",
        "\telif jug2 == max2:\n",
        "\t\tpour(0, jug1)\n",
        "\telif jug1 != 0 and jug2 == 0:\n",
        "\t\tpour(0, jug1)\n",
        "\telif jug1 == fill:\n",
        "\t\tpour(jug1, 0)\n",
        "\telif jug1 < max1:\n",
        "\t\tpour(max1, jug2)\n",
        "\telif jug1 < (max2-jug2):\n",
        "\t\tpour(0, (jug1+jug2))\n",
        "\telse:\n",
        "\t\tpour(jug1-(max2-jug2), (max2-jug2)+jug2)\n",
        "print(\"JUG1\\tJUG2\")\n",
        "pour(0, 0)\n"
      ]
    }
  ]
}